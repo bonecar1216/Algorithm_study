{
 "cells": [
  {
   "cell_type": "markdown",
   "metadata": {},
   "source": [
    "# 숫자 카드 게임\n",
    "숫자 카드 게임은 여러 개의 숫자 카드 중에서 가장 높은 숫자가 쓰인 카드 한장을 뽑는 게임이다. 단, 게임의 룰을 지키며 카드를 뽑아야 하고 룰은 다름과 같다.\n",
    "1. 숫자가 쓰인 카드들이 N x M 형태로 높여 있다. 이때 N은 행의 개수를 의미하며, M은 열의 개수를 의미한다.\n",
    "2. 먼저 뽑고자 하는 카드가 포함되어 있는 행을 선택한다.\n",
    "3. 그 다음 선택된 행에 포함된 카드들 중 가장 숫자가 낮은 카드를 뽑아야 한다.\n",
    "4. 따라서 처음에 카드를 골라낼 행을 선택할 때, 이후에 해당해에서 가장 낮은 카드를 뽑을 것을 고려하여 최종적으로 가장 높은 숫자의 카드를 뽑을 수 있도록 전략을 세워야 한다.\n",
    "## 입력 조건\n",
    "* 첫째 줄에 숫자 카드들이 높인 행의 개수 N과 열의 개수 M이 공백을 기준으로 하여 각각 자연수로 주어진다 (1<=N,M<=100)\n",
    "* 둘째 줄부터 N개의 줄에 걸쳐 각 카드에 적힌 숫자가 주어진다. 각 숫자는 1 이상 10,000이하의 자연수이다.\n",
    "## 출력 조건\n",
    "* 첫째 줄에 게임의 룰에 맞게 선택한 카드에 적힌 숫자를 출력한다."
   ]
  },
  {
   "cell_type": "code",
   "execution_count": 6,
   "metadata": {},
   "outputs": [
    {
     "name": "stdout",
     "output_type": "stream",
     "text": [
      "[7, 3, 1, 8]\n",
      "1\n",
      "[3, 3, 3, 4]\n",
      "3\n",
      "3\n"
     ]
    }
   ],
   "source": [
    "# min() 함수를 이용하는 답안\n",
    "N, M = map(int,input().split())\n",
    "\n",
    "ans = 0\n",
    "for i in range(N):\n",
    "    a = list(map(int,input().split()))\n",
    "    ans = max(min(a), ans)\n",
    "print(ans)"
   ]
  },
  {
   "cell_type": "code",
   "execution_count": null,
   "metadata": {},
   "outputs": [],
   "source": [
    "# 2중 반복문 구조를 이용하는 답안 예시\n",
    "N, M = map(int,input().split())\n",
    "\n",
    "result = 0\n",
    "for i in range(N):\n",
    "    data = list(map(int,input().split()))\n",
    "    min_value = 10001\n",
    "    # data안에 있는 값들을 하나씩 비교하면서 최소값을 찾아내는 구문\n",
    "    for a in data:\n",
    "        min_value = min(min_value, a)\n",
    "    # 가장 작은 수들 중에서 가장 큰 값을 찾는 구문\n",
    "    result = max(result, min_value)\n",
    "print(result)"
   ]
  }
 ],
 "metadata": {
  "kernelspec": {
   "display_name": "Python 3.9.6 64-bit",
   "language": "python",
   "name": "python3"
  },
  "language_info": {
   "codemirror_mode": {
    "name": "ipython",
    "version": 3
   },
   "file_extension": ".py",
   "mimetype": "text/x-python",
   "name": "python",
   "nbconvert_exporter": "python",
   "pygments_lexer": "ipython3",
   "version": "3.9.6"
  },
  "orig_nbformat": 4,
  "vscode": {
   "interpreter": {
    "hash": "81794d4967e6c3204c66dcd87b604927b115b27c00565d3d43f05ba2f3a2cb0d"
   }
  }
 },
 "nbformat": 4,
 "nbformat_minor": 2
}
