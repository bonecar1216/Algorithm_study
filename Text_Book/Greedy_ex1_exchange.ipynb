{
 "cells": [
  {
   "cell_type": "markdown",
   "metadata": {},
   "source": [
    "그리기(Greedy) 알고리즘\n",
    "거스름돈\n",
    "손님에게 거슬러 줘야할 돈 N원일 때, 거슬러 줘야할 동전의 최소 개수 구하기.\n",
    "(N은 항상 10의 배수)"
   ]
  },
  {
   "cell_type": "code",
   "execution_count": 1,
   "metadata": {},
   "outputs": [
    {
     "name": "stdout",
     "output_type": "stream",
     "text": [
      "잔돈이 1260일때, 손님에게 거슬러 줘야할 동전의 최소 개수는 6개이다.\n",
      "time:  0.0\n",
      "잔돈이 800일때, 손님에게 거슬러 줘야할 동전의 최소 개수는 4개이다.\n",
      "time:  0.0\n"
     ]
    }
   ],
   "source": [
    "import time\n",
    "\n",
    "\n",
    "def coin_count(N):\n",
    "    coins = [500, 100 ,50, 10]\n",
    "    coin_cnt = 0\n",
    "    for coin in coins:\n",
    "        cnt, N = divmod(N, coin)\n",
    "        coin_cnt += cnt\n",
    "    return coin_cnt\n",
    "\n",
    "start_time = time.time()\n",
    "ex1 = 1260    \n",
    "N1= coin_count(ex1)\n",
    "print(f'잔돈이 {ex1}일때, 손님에게 거슬러 줘야할 동전의 최소 개수는 {N1}개이다.')\n",
    "end_time = time.time()\n",
    "print('time: ', end_time - start_time)\n",
    "\n",
    "start_time = time.time()\n",
    "ex2 = 800    \n",
    "N2= coin_count(ex2)\n",
    "print(f'잔돈이 {ex2}일때, 손님에게 거슬러 줘야할 동전의 최소 개수는 {N2}개이다.')\n",
    "end_time = time.time()\n",
    "print('time: ', end_time - start_time)"
   ]
  }
 ],
 "metadata": {
  "kernelspec": {
   "display_name": "Python 3.9.6 64-bit",
   "language": "python",
   "name": "python3"
  },
  "language_info": {
   "codemirror_mode": {
    "name": "ipython",
    "version": 3
   },
   "file_extension": ".py",
   "mimetype": "text/x-python",
   "name": "python",
   "nbconvert_exporter": "python",
   "pygments_lexer": "ipython3",
   "version": "3.9.6"
  },
  "orig_nbformat": 4,
  "vscode": {
   "interpreter": {
    "hash": "81794d4967e6c3204c66dcd87b604927b115b27c00565d3d43f05ba2f3a2cb0d"
   }
  }
 },
 "nbformat": 4,
 "nbformat_minor": 2
}
