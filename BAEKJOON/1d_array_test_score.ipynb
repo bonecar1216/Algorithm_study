{
 "cells": [
  {
   "cell_type": "markdown",
   "metadata": {},
   "source": [
    "## 평균은 넘겠지"
   ]
  },
  {
   "cell_type": "markdown",
   "metadata": {},
   "source": [
    "#### 문제>\n",
    "##### 대학생 새내기들의 90%는 자신이 반에서 평균은 넘는다고 생각한다. 당신은 그들에게 슬픈 진실을 알려줘야 한다.\n",
    "\n",
    "#### 입력>\n",
    "##### 첫째 줄에는 테스트 케이스의 개수 C가 주어진다.\n",
    "##### 둘째 줄부터 각 테스트 케이스마다 학생의 수 N(1 ≤ N ≤ 1000, N은 정수)이 첫 수로 주어지고, 이어서 N명의 점수가 주어진다. 점수는 0보다 크거나 같고, 100보다 작거나 같은 정수이다.\n",
    "\n",
    "#### 출력>\n",
    "##### 각 케이스마다 한 줄씩 평균을 넘는 학생들의 비율을 반올림하여 소수점 셋째 자리까지 출력한다."
   ]
  },
  {
   "cell_type": "markdown",
   "metadata": {},
   "source": [
    "##### 예제입력>\n",
    "- 5\n",
    "- 5 50 50 70 80 100\n",
    "- 7 100 95 90 80 70 60 50\n",
    "- 3 70 90 80\n",
    "- 3 70 90 81\n",
    "- 9 100 99 98 97 96 95 94 93 91\n",
    "\n",
    "##### 예제출력>\n",
    "- 40.000%\n",
    "- 57.143%\n",
    "- 33.333%\n",
    "- 66.667%\n",
    "- 55.556%"
   ]
  },
  {
   "cell_type": "code",
   "execution_count": 11,
   "metadata": {},
   "outputs": [
    {
     "name": "stdout",
     "output_type": "stream",
     "text": [
      "40.000%\n",
      "57.143%\n",
      "33.333%\n",
      "66.667%\n",
      "55.556%\n"
     ]
    }
   ],
   "source": [
    "N = int(input())\n",
    "\n",
    "for _ in range(N):\n",
    "    a = list(map(int, input().split()))\n",
    "    student_num = a[0]\n",
    "    student_score = a[1:]\n",
    "    average = sum(student_score)/student_num\n",
    "    cnt = 0\n",
    "    for score in student_score:\n",
    "        if score > average:\n",
    "            cnt += 1\n",
    "    ratio = cnt/student_num*100\n",
    "    print('{:.3f}%'.format(ratio))\n",
    "    "
   ]
  }
 ],
 "metadata": {
  "kernelspec": {
   "display_name": "Python 3.9.6 64-bit",
   "language": "python",
   "name": "python3"
  },
  "language_info": {
   "codemirror_mode": {
    "name": "ipython",
    "version": 3
   },
   "file_extension": ".py",
   "mimetype": "text/x-python",
   "name": "python",
   "nbconvert_exporter": "python",
   "pygments_lexer": "ipython3",
   "version": "3.9.6"
  },
  "orig_nbformat": 4,
  "vscode": {
   "interpreter": {
    "hash": "81794d4967e6c3204c66dcd87b604927b115b27c00565d3d43f05ba2f3a2cb0d"
   }
  }
 },
 "nbformat": 4,
 "nbformat_minor": 2
}
